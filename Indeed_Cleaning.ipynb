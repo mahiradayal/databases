{
 "cells": [
  {
   "cell_type": "code",
   "execution_count": 1,
   "metadata": {},
   "outputs": [
    {
     "name": "stderr",
     "output_type": "stream",
     "text": [
      "/Users/mahiradayal/.pyenv/versions/3.8.2/lib/python3.8/site-packages/pandas/compat/__init__.py:120: UserWarning: Could not import the lzma module. Your installed Python is incomplete. Attempting to use lzma compression will result in a RuntimeError.\n",
      "  warnings.warn(msg)\n"
     ]
    }
   ],
   "source": [
    "import pandas as pd\n",
    "import numpy as np"
   ]
  },
  {
   "cell_type": "code",
   "execution_count": 2,
   "metadata": {},
   "outputs": [
    {
     "data": {
      "text/plain": [
       "(876, 6)"
      ]
     },
     "execution_count": 2,
     "metadata": {},
     "output_type": "execute_result"
    }
   ],
   "source": [
    "df = pd.read_csv(\"contacttracejobs.csv\")\n",
    "df.shape"
   ]
  },
  {
   "cell_type": "code",
   "execution_count": 3,
   "metadata": {},
   "outputs": [
    {
     "data": {
      "text/html": [
       "<div>\n",
       "<style scoped>\n",
       "    .dataframe tbody tr th:only-of-type {\n",
       "        vertical-align: middle;\n",
       "    }\n",
       "\n",
       "    .dataframe tbody tr th {\n",
       "        vertical-align: top;\n",
       "    }\n",
       "\n",
       "    .dataframe thead th {\n",
       "        text-align: right;\n",
       "    }\n",
       "</style>\n",
       "<table border=\"1\" class=\"dataframe\">\n",
       "  <thead>\n",
       "    <tr style=\"text-align: right;\">\n",
       "      <th></th>\n",
       "      <th>Job Title</th>\n",
       "      <th>Job Company</th>\n",
       "      <th>Job Location</th>\n",
       "      <th>Job Type</th>\n",
       "      <th>Job Pay</th>\n",
       "      <th>Job Excerpt</th>\n",
       "    </tr>\n",
       "  </thead>\n",
       "  <tbody>\n",
       "    <tr>\n",
       "      <th>0</th>\n",
       "      <td>Urgent Need for Contact Tracer</td>\n",
       "      <td>Staffing Etc.</td>\n",
       "      <td>Not specified</td>\n",
       "      <td>Temporarily remote</td>\n",
       "      <td>$25 an hour</td>\n",
       "      <td>\\n\\nThe Contact Tracer will work from home usi...</td>\n",
       "    </tr>\n",
       "    <tr>\n",
       "      <th>1</th>\n",
       "      <td>Representantes Bilingues en Ingles y Espanol C...</td>\n",
       "      <td>ValorVIP</td>\n",
       "      <td>Not specified</td>\n",
       "      <td>Not remote</td>\n",
       "      <td>Pay details not available</td>\n",
       "      <td>\\n\\nComplete research of beneficiary contact h...</td>\n",
       "    </tr>\n",
       "    <tr>\n",
       "      <th>2</th>\n",
       "      <td>Representantes Bilingues en Ingles y Espanol C...</td>\n",
       "      <td>MCI Careers</td>\n",
       "      <td>Not specified</td>\n",
       "      <td>Not remote</td>\n",
       "      <td>Pay details not available</td>\n",
       "      <td>\\n\\nComplete research of beneficiary contact h...</td>\n",
       "    </tr>\n",
       "    <tr>\n",
       "      <th>3</th>\n",
       "      <td>COVID-19 Contact Tracer</td>\n",
       "      <td>New Healthcare Professionals</td>\n",
       "      <td>Jamaica, NY</td>\n",
       "      <td>Not remote</td>\n",
       "      <td>$18 - $20 an hour</td>\n",
       "      <td>\\n\\nPerforms outreach in support of COVID-19 c...</td>\n",
       "    </tr>\n",
       "    <tr>\n",
       "      <th>4</th>\n",
       "      <td>Contact Tracer</td>\n",
       "      <td>Public Consulting Group</td>\n",
       "      <td>New York, NY 10038 (Financial District area)</td>\n",
       "      <td>Remote</td>\n",
       "      <td>Pay details not available</td>\n",
       "      <td>\\n\\nCall contacts of newly diagnosed cases.\\nT...</td>\n",
       "    </tr>\n",
       "  </tbody>\n",
       "</table>\n",
       "</div>"
      ],
      "text/plain": [
       "                                           Job Title  \\\n",
       "0                     Urgent Need for Contact Tracer   \n",
       "1  Representantes Bilingues en Ingles y Espanol C...   \n",
       "2  Representantes Bilingues en Ingles y Espanol C...   \n",
       "3                            COVID-19 Contact Tracer   \n",
       "4                                     Contact Tracer   \n",
       "\n",
       "                    Job Company                                  Job Location  \\\n",
       "0                 Staffing Etc.                                 Not specified   \n",
       "1                      ValorVIP                                 Not specified   \n",
       "2                   MCI Careers                                 Not specified   \n",
       "3  New Healthcare Professionals                                   Jamaica, NY   \n",
       "4       Public Consulting Group  New York, NY 10038 (Financial District area)   \n",
       "\n",
       "             Job Type                    Job Pay  \\\n",
       "0  Temporarily remote                $25 an hour   \n",
       "1          Not remote  Pay details not available   \n",
       "2          Not remote  Pay details not available   \n",
       "3          Not remote          $18 - $20 an hour   \n",
       "4              Remote  Pay details not available   \n",
       "\n",
       "                                         Job Excerpt  \n",
       "0  \\n\\nThe Contact Tracer will work from home usi...  \n",
       "1  \\n\\nComplete research of beneficiary contact h...  \n",
       "2  \\n\\nComplete research of beneficiary contact h...  \n",
       "3  \\n\\nPerforms outreach in support of COVID-19 c...  \n",
       "4  \\n\\nCall contacts of newly diagnosed cases.\\nT...  "
      ]
     },
     "execution_count": 3,
     "metadata": {},
     "output_type": "execute_result"
    }
   ],
   "source": [
    "df.head()"
   ]
  },
  {
   "cell_type": "code",
   "execution_count": 4,
   "metadata": {},
   "outputs": [],
   "source": [
    "df_locations = df[(df['Job Location'] != \"Not specified\") & (df['Job Location'] != \"Remote\")]"
   ]
  },
  {
   "cell_type": "code",
   "execution_count": 5,
   "metadata": {},
   "outputs": [
    {
     "data": {
      "text/plain": [
       "(793, 6)"
      ]
     },
     "execution_count": 5,
     "metadata": {},
     "output_type": "execute_result"
    }
   ],
   "source": [
    "df_locations.shape"
   ]
  },
  {
   "cell_type": "code",
   "execution_count": 6,
   "metadata": {},
   "outputs": [
    {
     "data": {
      "text/plain": [
       "Street, MD           160\n",
       "Arkansas              34\n",
       "Menasha, WI 54952     31\n",
       "Chicago, IL           31\n",
       "Holland, MI 49424     26\n",
       "Name: Job Location, dtype: int64"
      ]
     },
     "execution_count": 6,
     "metadata": {},
     "output_type": "execute_result"
    }
   ],
   "source": [
    "df_locations['Job Location'].value_counts().sort_values(ascending=False).head()"
   ]
  },
  {
   "cell_type": "code",
   "execution_count": 7,
   "metadata": {},
   "outputs": [
    {
     "name": "stderr",
     "output_type": "stream",
     "text": [
      "/Users/mahiradayal/.pyenv/versions/3.8.2/lib/python3.8/site-packages/pandas/core/strings.py:2001: UserWarning: This pattern has match groups. To actually get the groups, use str.extract.\n",
      "  return func(self, *args, **kwargs)\n",
      "<ipython-input-7-c51fe258b2a2>:1: SettingWithCopyWarning: \n",
      "A value is trying to be set on a copy of a slice from a DataFrame.\n",
      "Try using .loc[row_indexer,col_indexer] = value instead\n",
      "\n",
      "See the caveats in the documentation: https://pandas.pydata.org/pandas-docs/stable/user_guide/indexing.html#returning-a-view-versus-a-copy\n",
      "  df_locations['Job State'] = df_locations['Job Location'].str.contains(r\"(, \\w\\w)\\w?\\w*\", na = False)\n",
      "<ipython-input-7-c51fe258b2a2>:5: SettingWithCopyWarning: \n",
      "A value is trying to be set on a copy of a slice from a DataFrame.\n",
      "Try using .loc[row_indexer,col_indexer] = value instead\n",
      "\n",
      "See the caveats in the documentation: https://pandas.pydata.org/pandas-docs/stable/user_guide/indexing.html#returning-a-view-versus-a-copy\n",
      "  df_locations['Job State'] = df_locations['Job Location'].str.extract(r\", (\\w\\w)\\w?\\w*\", expand=True)\n"
     ]
    }
   ],
   "source": [
    "df_locations['Job State'] = df_locations['Job Location'].str.contains(r\"(, \\w\\w)\\w?\\w*\", na = False)\n",
    "\n",
    "for state in df_locations['Job State']:\n",
    "    if state == True:\n",
    "        df_locations['Job State'] = df_locations['Job Location'].str.extract(r\", (\\w\\w)\\w?\\w*\", expand=True)\n"
   ]
  },
  {
   "cell_type": "code",
   "execution_count": 8,
   "metadata": {},
   "outputs": [
    {
     "data": {
      "text/plain": [
       "Arkansas            34\n",
       "Alaska              11\n",
       "California           6\n",
       "Wisconsin            5\n",
       "New Jersey           4\n",
       "Georgia              3\n",
       "Massachusetts        2\n",
       "Pennsylvania         2\n",
       "South Dakota         1\n",
       "Colorado             1\n",
       "Louisiana            1\n",
       "Indiana              1\n",
       "Iowa                 1\n",
       "Utah                 1\n",
       "Texas                1\n",
       "Washington State     1\n",
       "Nebraska             1\n",
       "Nevada               1\n",
       "Missouri             1\n",
       "Puerto Rico          1\n",
       "Name: Job Location, dtype: int64"
      ]
     },
     "execution_count": 8,
     "metadata": {},
     "output_type": "execute_result"
    }
   ],
   "source": [
    "df_locations[df_locations['Job State'].isna()]['Job Location'].value_counts()"
   ]
  },
  {
   "cell_type": "code",
   "execution_count": 9,
   "metadata": {},
   "outputs": [
    {
     "name": "stderr",
     "output_type": "stream",
     "text": [
      "/Users/mahiradayal/.pyenv/versions/3.8.2/lib/python3.8/site-packages/pandas/core/indexing.py:670: SettingWithCopyWarning: \n",
      "A value is trying to be set on a copy of a slice from a DataFrame\n",
      "\n",
      "See the caveats in the documentation: https://pandas.pydata.org/pandas-docs/stable/user_guide/indexing.html#returning-a-view-versus-a-copy\n",
      "  iloc._setitem_with_indexer(indexer, value)\n",
      "<ipython-input-9-9d964bdc3512>:63: SettingWithCopyWarning: \n",
      "A value is trying to be set on a copy of a slice from a DataFrame\n",
      "\n",
      "See the caveats in the documentation: https://pandas.pydata.org/pandas-docs/stable/user_guide/indexing.html#returning-a-view-versus-a-copy\n",
      "  df_locations.loc[df_locations['Job Location'] == state, 'Job State'] = state_mapping[state]\n"
     ]
    }
   ],
   "source": [
    "# Disclaimer, I copied this dictionary from the internet and edited Washington to Washington State to match my data. \n",
    "# Here's where it's from: https://gist.github.com/rogerallen/1583593?fbclid=IwAR10dikMqEqCda310-F3T2RCARIY4Ng3XtYMu95fiira2dDaUdm7Yt8icls\n",
    "\n",
    "state_mapping = {\n",
    "    'Alabama': 'AL',\n",
    "    'Alaska': 'AK',\n",
    "    'American Samoa': 'AS',\n",
    "    'Arizona': 'AZ',\n",
    "    'Arkansas': 'AR',\n",
    "    'California': 'CA',\n",
    "    'Colorado': 'CO',\n",
    "    'Connecticut': 'CT',\n",
    "    'Delaware': 'DE',\n",
    "    'District of Columbia': 'DC',\n",
    "    'Florida': 'FL',\n",
    "    'Georgia': 'GA',\n",
    "    'Guam': 'GU',\n",
    "    'Hawaii': 'HI',\n",
    "    'Idaho': 'ID',\n",
    "    'Illinois': 'IL',\n",
    "    'Indiana': 'IN',\n",
    "    'Iowa': 'IA',\n",
    "    'Kansas': 'KS',\n",
    "    'Kentucky': 'KY',\n",
    "    'Louisiana': 'LA',\n",
    "    'Maine': 'ME',\n",
    "    'Maryland': 'MD',\n",
    "    'Massachusetts': 'MA',\n",
    "    'Michigan': 'MI',\n",
    "    'Minnesota': 'MN',\n",
    "    'Mississippi': 'MS',\n",
    "    'Missouri': 'MO',\n",
    "    'Montana': 'MT',\n",
    "    'Nebraska': 'NE',\n",
    "    'Nevada': 'NV',\n",
    "    'New Hampshire': 'NH',\n",
    "    'New Jersey': 'NJ',\n",
    "    'New Mexico': 'NM',\n",
    "    'New York': 'NY',\n",
    "    'North Carolina': 'NC',\n",
    "    'North Dakota': 'ND',\n",
    "    'Northern Mariana Islands':'MP',\n",
    "    'Ohio': 'OH',\n",
    "    'Oklahoma': 'OK',\n",
    "    'Oregon': 'OR',\n",
    "    'Pennsylvania': 'PA',\n",
    "    'Puerto Rico': 'PR',\n",
    "    'Rhode Island': 'RI',\n",
    "    'South Carolina': 'SC',\n",
    "    'South Dakota': 'SD',\n",
    "    'Tennessee': 'TN',\n",
    "    'Texas': 'TX',\n",
    "    'Utah': 'UT',\n",
    "    'Vermont': 'VT',\n",
    "    'Virgin Islands': 'VI',\n",
    "    'Virginia': 'VA',\n",
    "    'Washington State': 'WA',\n",
    "    'West Virginia': 'WV',\n",
    "    'Wisconsin': 'WI',\n",
    "    'Wyoming': 'WY'}\n",
    "\n",
    "for state in state_mapping.keys():\n",
    "    df_locations.loc[df_locations['Job Location'] == state, 'Job State'] = state_mapping[state]"
   ]
  },
  {
   "cell_type": "code",
   "execution_count": 10,
   "metadata": {},
   "outputs": [
    {
     "data": {
      "text/html": [
       "<div>\n",
       "<style scoped>\n",
       "    .dataframe tbody tr th:only-of-type {\n",
       "        vertical-align: middle;\n",
       "    }\n",
       "\n",
       "    .dataframe tbody tr th {\n",
       "        vertical-align: top;\n",
       "    }\n",
       "\n",
       "    .dataframe thead th {\n",
       "        text-align: right;\n",
       "    }\n",
       "</style>\n",
       "<table border=\"1\" class=\"dataframe\">\n",
       "  <thead>\n",
       "    <tr style=\"text-align: right;\">\n",
       "      <th></th>\n",
       "      <th>Job Title</th>\n",
       "      <th>Job Company</th>\n",
       "      <th>Job Location</th>\n",
       "      <th>Job Type</th>\n",
       "      <th>Job Pay</th>\n",
       "      <th>Job Excerpt</th>\n",
       "      <th>Job State</th>\n",
       "    </tr>\n",
       "  </thead>\n",
       "  <tbody>\n",
       "    <tr>\n",
       "      <th>3</th>\n",
       "      <td>COVID-19 Contact Tracer</td>\n",
       "      <td>New Healthcare Professionals</td>\n",
       "      <td>Jamaica, NY</td>\n",
       "      <td>Not remote</td>\n",
       "      <td>$18 - $20 an hour</td>\n",
       "      <td>\\n\\nPerforms outreach in support of COVID-19 c...</td>\n",
       "      <td>NY</td>\n",
       "    </tr>\n",
       "    <tr>\n",
       "      <th>4</th>\n",
       "      <td>Contact Tracer</td>\n",
       "      <td>Public Consulting Group</td>\n",
       "      <td>New York, NY 10038 (Financial District area)</td>\n",
       "      <td>Remote</td>\n",
       "      <td>Pay details not available</td>\n",
       "      <td>\\n\\nCall contacts of newly diagnosed cases.\\nT...</td>\n",
       "      <td>NY</td>\n",
       "    </tr>\n",
       "    <tr>\n",
       "      <th>5</th>\n",
       "      <td>Contact Tracer</td>\n",
       "      <td>MIC Global Services</td>\n",
       "      <td>Plano, TX 75024</td>\n",
       "      <td>Temporarily remote</td>\n",
       "      <td>$20 - $25 an hour</td>\n",
       "      <td>\\n\\nContact tracers will follow a script to in...</td>\n",
       "      <td>TX</td>\n",
       "    </tr>\n",
       "    <tr>\n",
       "      <th>7</th>\n",
       "      <td>Contact Tracer</td>\n",
       "      <td>Southern Nevada Health District</td>\n",
       "      <td>Nevada</td>\n",
       "      <td>Remote</td>\n",
       "      <td>$22.03 - $30.75 an hour</td>\n",
       "      <td>\\n\\nProvides contacts with regulated informati...</td>\n",
       "      <td>NV</td>\n",
       "    </tr>\n",
       "    <tr>\n",
       "      <th>8</th>\n",
       "      <td>Covid-19 Contact Tracer/Survey Interviewer, Fu...</td>\n",
       "      <td>Professional Research Consultants, Inc</td>\n",
       "      <td>South Dakota</td>\n",
       "      <td>Temporarily remote</td>\n",
       "      <td>Pay details not available</td>\n",
       "      <td>\\n\\nMaintain daily contact with supervisor.\\nT...</td>\n",
       "      <td>SD</td>\n",
       "    </tr>\n",
       "  </tbody>\n",
       "</table>\n",
       "</div>"
      ],
      "text/plain": [
       "                                           Job Title  \\\n",
       "3                            COVID-19 Contact Tracer   \n",
       "4                                     Contact Tracer   \n",
       "5                                     Contact Tracer   \n",
       "7                                     Contact Tracer   \n",
       "8  Covid-19 Contact Tracer/Survey Interviewer, Fu...   \n",
       "\n",
       "                              Job Company  \\\n",
       "3            New Healthcare Professionals   \n",
       "4                 Public Consulting Group   \n",
       "5                     MIC Global Services   \n",
       "7         Southern Nevada Health District   \n",
       "8  Professional Research Consultants, Inc   \n",
       "\n",
       "                                   Job Location            Job Type  \\\n",
       "3                                   Jamaica, NY          Not remote   \n",
       "4  New York, NY 10038 (Financial District area)              Remote   \n",
       "5                               Plano, TX 75024  Temporarily remote   \n",
       "7                                        Nevada              Remote   \n",
       "8                                  South Dakota  Temporarily remote   \n",
       "\n",
       "                     Job Pay  \\\n",
       "3          $18 - $20 an hour   \n",
       "4  Pay details not available   \n",
       "5          $20 - $25 an hour   \n",
       "7    $22.03 - $30.75 an hour   \n",
       "8  Pay details not available   \n",
       "\n",
       "                                         Job Excerpt Job State  \n",
       "3  \\n\\nPerforms outreach in support of COVID-19 c...        NY  \n",
       "4  \\n\\nCall contacts of newly diagnosed cases.\\nT...        NY  \n",
       "5  \\n\\nContact tracers will follow a script to in...        TX  \n",
       "7  \\n\\nProvides contacts with regulated informati...        NV  \n",
       "8  \\n\\nMaintain daily contact with supervisor.\\nT...        SD  "
      ]
     },
     "execution_count": 10,
     "metadata": {},
     "output_type": "execute_result"
    }
   ],
   "source": [
    "df_locations.head()"
   ]
  },
  {
   "cell_type": "code",
   "execution_count": 11,
   "metadata": {},
   "outputs": [
    {
     "data": {
      "text/plain": [
       "Job Title       0\n",
       "Job Company     0\n",
       "Job Location    0\n",
       "Job Type        0\n",
       "Job Pay         0\n",
       "Job Excerpt     0\n",
       "Job State       0\n",
       "dtype: int64"
      ]
     },
     "execution_count": 11,
     "metadata": {},
     "output_type": "execute_result"
    }
   ],
   "source": [
    "df_locations[df_locations['Job State'].isna()].count()"
   ]
  },
  {
   "cell_type": "code",
   "execution_count": 12,
   "metadata": {},
   "outputs": [
    {
     "data": {
      "text/plain": [
       "<AxesSubplot:ylabel='Job Type'>"
      ]
     },
     "execution_count": 12,
     "metadata": {},
     "output_type": "execute_result"
    },
    {
     "data": {
      "image/png": "[encoded data removed]",
      "text/plain": [
       "<Figure size 432x288 with 1 Axes>"
      ]
     },
     "metadata": {},
     "output_type": "display_data"
    }
   ],
   "source": [
    "df_locations['Job Type'].value_counts().plot(kind = 'pie')"
   ]
  },
  {
   "cell_type": "code",
   "execution_count": 20,
   "metadata": {},
   "outputs": [
    {
     "data": {
      "text/plain": [
       "<AxesSubplot:>"
      ]
     },
     "execution_count": 20,
     "metadata": {},
     "output_type": "execute_result"
    },
    {
     "data": {
      "image/png": "[encoded data removed]",
      "text/plain": [
       "<Figure size 720x720 with 1 Axes>"
      ]
     },
     "metadata": {
      "needs_background": "light"
     },
     "output_type": "display_data"
    }
   ],
   "source": [
    "df_locations['Job State'].value_counts().sort_values().plot(kind='barh', figsize=(10,10))"
   ]
  },
  {
   "cell_type": "code",
   "execution_count": 14,
   "metadata": {},
   "outputs": [
    {
     "data": {
      "text/plain": [
       "MD    192\n",
       "Name: Job State, dtype: int64"
      ]
     },
     "execution_count": 14,
     "metadata": {},
     "output_type": "execute_result"
    }
   ],
   "source": [
    "df_locations['Job State'].value_counts().sort_values(ascending=False).head(1)"
   ]
  },
  {
   "cell_type": "code",
   "execution_count": 15,
   "metadata": {},
   "outputs": [
    {
     "data": {
      "text/plain": [
       "City of Baltimore                        160\n",
       "Arkansas Foundation for Medical Care      34\n",
       "City of Menasha                           31\n",
       "Ottawa County                             26\n",
       "Mohave County                             25\n",
       "US Department of Veterans Affairs         24\n",
       "Cook County Health & Hospitals System     23\n",
       "AM LLC                                    22\n",
       "City of Baltimore, MD                     18\n",
       "Columbine Health Systems                  17\n",
       "HPM Corporation                           15\n",
       "Crane Elementary School District 13       10\n",
       "Heluna Health                             10\n",
       "Public Consulting Group                    7\n",
       "Shelby County Government                   6\n",
       "Southern Seven Health Department           5\n",
       "Public Health Institute                    5\n",
       "Indiana University                         5\n",
       "LifeLong Medical Care                      4\n",
       "State of Maryland                          4\n",
       "Name: Job Company, dtype: int64"
      ]
     },
     "execution_count": 15,
     "metadata": {},
     "output_type": "execute_result"
    }
   ],
   "source": [
    "df_locations['Job Company'].value_counts().sort_values(ascending=False).head(20)"
   ]
  },
  {
   "cell_type": "code",
   "execution_count": 16,
   "metadata": {},
   "outputs": [
    {
     "data": {
      "text/html": [
       "<div>\n",
       "<style scoped>\n",
       "    .dataframe tbody tr th:only-of-type {\n",
       "        vertical-align: middle;\n",
       "    }\n",
       "\n",
       "    .dataframe tbody tr th {\n",
       "        vertical-align: top;\n",
       "    }\n",
       "\n",
       "    .dataframe thead th {\n",
       "        text-align: right;\n",
       "    }\n",
       "</style>\n",
       "<table border=\"1\" class=\"dataframe\">\n",
       "  <thead>\n",
       "    <tr style=\"text-align: right;\">\n",
       "      <th></th>\n",
       "      <th>Job Title</th>\n",
       "      <th>Job Company</th>\n",
       "      <th>Job Location</th>\n",
       "      <th>Job Type</th>\n",
       "      <th>Job Pay</th>\n",
       "      <th>Job Excerpt</th>\n",
       "      <th>Job State</th>\n",
       "    </tr>\n",
       "  </thead>\n",
       "  <tbody>\n",
       "    <tr>\n",
       "      <th>443</th>\n",
       "      <td>COVID-19 Disease Reactor Coordinator - Health ...</td>\n",
       "      <td>City of Baltimore</td>\n",
       "      <td>Street, MD</td>\n",
       "      <td>Not remote</td>\n",
       "      <td>Pay details not available</td>\n",
       "      <td>\\n\\nThis includes coordinating between case in...</td>\n",
       "      <td>MD</td>\n",
       "    </tr>\n",
       "    <tr>\n",
       "      <th>446</th>\n",
       "      <td>Project Director - Health Department</td>\n",
       "      <td>City of Baltimore</td>\n",
       "      <td>Street, MD</td>\n",
       "      <td>Not remote</td>\n",
       "      <td>$80,000 a year</td>\n",
       "      <td>\\n\\nThese managers will oversee supervisors of...</td>\n",
       "      <td>MD</td>\n",
       "    </tr>\n",
       "    <tr>\n",
       "      <th>457</th>\n",
       "      <td>Partner Coordinator - Health Department</td>\n",
       "      <td>City of Baltimore</td>\n",
       "      <td>Street, MD</td>\n",
       "      <td>Not remote</td>\n",
       "      <td>Pay details not available</td>\n",
       "      <td>\\n\\nMaintain communication with partners and e...</td>\n",
       "      <td>MD</td>\n",
       "    </tr>\n",
       "    <tr>\n",
       "      <th>462</th>\n",
       "      <td>Community Health Worker/ Data Coordinator - He...</td>\n",
       "      <td>City of Baltimore</td>\n",
       "      <td>Street, MD</td>\n",
       "      <td>Not remote</td>\n",
       "      <td>$55,000 a year</td>\n",
       "      <td>\\n\\nKey duties &amp; responsibilities Data Collect...</td>\n",
       "      <td>MD</td>\n",
       "    </tr>\n",
       "    <tr>\n",
       "      <th>466</th>\n",
       "      <td>Social Work Care Coordinator - Health Department</td>\n",
       "      <td>City of Baltimore</td>\n",
       "      <td>Street, MD</td>\n",
       "      <td>Not remote</td>\n",
       "      <td>$55,000 a year</td>\n",
       "      <td>\\n\\nApplicants who are hired for this position...</td>\n",
       "      <td>MD</td>\n",
       "    </tr>\n",
       "    <tr>\n",
       "      <th>...</th>\n",
       "      <td>...</td>\n",
       "      <td>...</td>\n",
       "      <td>...</td>\n",
       "      <td>...</td>\n",
       "      <td>...</td>\n",
       "      <td>...</td>\n",
       "      <td>...</td>\n",
       "    </tr>\n",
       "    <tr>\n",
       "      <th>868</th>\n",
       "      <td>Community Health Worker/ Data Coordinator - He...</td>\n",
       "      <td>City of Baltimore</td>\n",
       "      <td>Street, MD</td>\n",
       "      <td>Not remote</td>\n",
       "      <td>$55,000 a year</td>\n",
       "      <td>\\n\\nKey duties &amp; responsibilities Data Collect...</td>\n",
       "      <td>MD</td>\n",
       "    </tr>\n",
       "    <tr>\n",
       "      <th>869</th>\n",
       "      <td>Social Work Care Coordinator - Health Department</td>\n",
       "      <td>City of Baltimore</td>\n",
       "      <td>Street, MD</td>\n",
       "      <td>Not remote</td>\n",
       "      <td>$55,000 a year</td>\n",
       "      <td>\\n\\nApplicants who are hired for this position...</td>\n",
       "      <td>MD</td>\n",
       "    </tr>\n",
       "    <tr>\n",
       "      <th>870</th>\n",
       "      <td>Community Health Worker / Care Coordinator - H...</td>\n",
       "      <td>City of Baltimore</td>\n",
       "      <td>Street, MD</td>\n",
       "      <td>Not remote</td>\n",
       "      <td>$39,000 a year</td>\n",
       "      <td>\\n\\nApplicants hired for this position will un...</td>\n",
       "      <td>MD</td>\n",
       "    </tr>\n",
       "    <tr>\n",
       "      <th>871</th>\n",
       "      <td>Conversion and Care Coordination Manager - Hea...</td>\n",
       "      <td>City of Baltimore</td>\n",
       "      <td>Street, MD</td>\n",
       "      <td>Not remote</td>\n",
       "      <td>Pay details not available</td>\n",
       "      <td>\\n\\nThis includes managing a team of Disease R...</td>\n",
       "      <td>MD</td>\n",
       "    </tr>\n",
       "    <tr>\n",
       "      <th>873</th>\n",
       "      <td>Community Health Worker Supervisor - Health De...</td>\n",
       "      <td>City of Baltimore</td>\n",
       "      <td>Street, MD</td>\n",
       "      <td>Not remote</td>\n",
       "      <td>$55,000 a year</td>\n",
       "      <td>\\n\\nThe CHW supervisor will also conduct conta...</td>\n",
       "      <td>MD</td>\n",
       "    </tr>\n",
       "  </tbody>\n",
       "</table>\n",
       "<p>160 rows × 7 columns</p>\n",
       "</div>"
      ],
      "text/plain": [
       "                                             Job Title        Job Company  \\\n",
       "443  COVID-19 Disease Reactor Coordinator - Health ...  City of Baltimore   \n",
       "446               Project Director - Health Department  City of Baltimore   \n",
       "457            Partner Coordinator - Health Department  City of Baltimore   \n",
       "462  Community Health Worker/ Data Coordinator - He...  City of Baltimore   \n",
       "466   Social Work Care Coordinator - Health Department  City of Baltimore   \n",
       "..                                                 ...                ...   \n",
       "868  Community Health Worker/ Data Coordinator - He...  City of Baltimore   \n",
       "869   Social Work Care Coordinator - Health Department  City of Baltimore   \n",
       "870  Community Health Worker / Care Coordinator - H...  City of Baltimore   \n",
       "871  Conversion and Care Coordination Manager - Hea...  City of Baltimore   \n",
       "873  Community Health Worker Supervisor - Health De...  City of Baltimore   \n",
       "\n",
       "    Job Location    Job Type                    Job Pay  \\\n",
       "443   Street, MD  Not remote  Pay details not available   \n",
       "446   Street, MD  Not remote             $80,000 a year   \n",
       "457   Street, MD  Not remote  Pay details not available   \n",
       "462   Street, MD  Not remote             $55,000 a year   \n",
       "466   Street, MD  Not remote             $55,000 a year   \n",
       "..           ...         ...                        ...   \n",
       "868   Street, MD  Not remote             $55,000 a year   \n",
       "869   Street, MD  Not remote             $55,000 a year   \n",
       "870   Street, MD  Not remote             $39,000 a year   \n",
       "871   Street, MD  Not remote  Pay details not available   \n",
       "873   Street, MD  Not remote             $55,000 a year   \n",
       "\n",
       "                                           Job Excerpt Job State  \n",
       "443  \\n\\nThis includes coordinating between case in...        MD  \n",
       "446  \\n\\nThese managers will oversee supervisors of...        MD  \n",
       "457  \\n\\nMaintain communication with partners and e...        MD  \n",
       "462  \\n\\nKey duties & responsibilities Data Collect...        MD  \n",
       "466  \\n\\nApplicants who are hired for this position...        MD  \n",
       "..                                                 ...       ...  \n",
       "868  \\n\\nKey duties & responsibilities Data Collect...        MD  \n",
       "869  \\n\\nApplicants who are hired for this position...        MD  \n",
       "870  \\n\\nApplicants hired for this position will un...        MD  \n",
       "871  \\n\\nThis includes managing a team of Disease R...        MD  \n",
       "873  \\n\\nThe CHW supervisor will also conduct conta...        MD  \n",
       "\n",
       "[160 rows x 7 columns]"
      ]
     },
     "execution_count": 16,
     "metadata": {},
     "output_type": "execute_result"
    }
   ],
   "source": [
    "df_locations[df_locations['Job Company'] == \"City of Baltimore\"]"
   ]
  },
  {
   "cell_type": "markdown",
   "metadata": {},
   "source": [
    "### Things I could integrate: \n",
    "COVID data per state: https://github.com/jeffcore/covid-19-usa-by-state/tree/master/data\n",
    "(Or scrape this directly from John Hopkins)\n"
   ]
  }
 ],
 "metadata": {
  "kernelspec": {
   "display_name": "Python 3",
   "language": "python",
   "name": "python3"
  },
  "language_info": {
   "codemirror_mode": {
    "name": "ipython",
    "version": 3
   },
   "file_extension": ".py",
   "mimetype": "text/x-python",
   "name": "python",
   "nbconvert_exporter": "python",
   "pygments_lexer": "ipython3",
   "version": "3.8.2"
  }
 },
 "nbformat": 4,
 "nbformat_minor": 4
}
